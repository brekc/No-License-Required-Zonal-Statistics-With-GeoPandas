{
 "cells": [
  {
   "cell_type": "markdown",
   "id": "42f731e5",
   "metadata": {},
   "source": [
    "\n",
    "# Raster Priming with GDAL/OGR Command Line\n",
    "\n",
    "**Brek Chiles, 2025**\n"
   ]
  },
  {
   "cell_type": "markdown",
   "id": "ec155aea",
   "metadata": {},
   "source": [
    "\n",
    "### Purpose\n",
    "\n",
    "This notebook provides a workflow with GDAL/OGR command line tools that create raster data inputs for the GeoPandas_Rasterio_Zonal_Stistics IPython Notebook.\n"
   ]
  },
  {
   "cell_type": "code",
   "execution_count": null,
   "id": "5f33dabd",
   "metadata": {},
   "outputs": [],
   "source": [
    "# Import modules\n",
    "import os"
   ]
  },
  {
   "cell_type": "code",
   "execution_count": null,
   "id": "4c0ee678",
   "metadata": {},
   "outputs": [],
   "source": [
    "# Set directory paths\n",
    "ipynb_dir = os.getcwd()\n",
    "boundary_dir = os.path.join(ipynb_dir, \"Inputs\", \"Boundary\")\n",
    "dem_dir = os.path.join(ipynb_dir, \"Inputs\", \"DEM\")\n",
    "\n",
    "# Create the DEM directory\n",
    "os.makedirs(dem_dir, exist_ok=True)\n",
    "\n",
    "# Check directory paths\n",
    "ipynb_dir, boundary_dir, dem_dir"
   ]
  },
  {
   "cell_type": "code",
   "execution_count": null,
   "id": "2429222f",
   "metadata": {},
   "outputs": [],
   "source": [
    "# Set file paths\n",
    "# Raster\n",
    "raster_input = os.path.join(dem_dir, \"King_Co_2021_DTM_Crop.tif\")\n",
    "raster_output = os.path.join(dem_dir, \"King_Co_2021_Ext.tif\")\n",
    "hillshade_output = os.path.join(dem_dir, \"King_Co_2021_SR.tif\")\n",
    "slope_output = os.path.join(dem_dir, \"King_Co_2021_Ext_Perc.tif\")\n",
    "\n",
    "# Vector/Geometry\n",
    "redmond_neighborhoods = os.path.join(boundary_dir, \"Redmond_Neighborhoods.shp\")\n",
    "boundary = os.path.join(boundary_dir, \"Redmond_Study_Area.shp\")\n",
    "\n",
    "# Check directory paths\n",
    "raster_input, raster_output, hillshade_output, slope_output, redmond_neighborhoods, boundary"
   ]
  },
  {
   "cell_type": "code",
   "execution_count": null,
   "id": "eaaaf344",
   "metadata": {},
   "outputs": [],
   "source": [
    "# Set Dropbox Url and directory for input raster files\n",
    "url = \"https://www.dropbox.com/scl/fi/um1idvkj5taiinvsvbcgu/King_Co_2021_DTM_Crop.tif?rlkey=ziqgqu8lmhywilqiwcgtk9e1z&st=24nyyc36&dl=1\""
   ]
  },
  {
   "cell_type": "markdown",
   "id": "9caa801b",
   "metadata": {},
   "source": [
    "\n",
    "### Raster Extraction by Mask\n",
    "\n",
    "The following cells will download the supplemental raster GeoTiff and extract data to the study area boundary.\n"
   ]
  },
  {
   "cell_type": "code",
   "execution_count": null,
   "id": "42b6aa7d",
   "metadata": {
    "vscode": {
     "languageId": "powershell"
    }
   },
   "outputs": [],
   "source": [
    "!curl -L \"$url\"  -O --output-dir \"$dem_dir\""
   ]
  },
  {
   "cell_type": "markdown",
   "id": "ed58fa6a",
   "metadata": {},
   "source": [
    "\n",
    "Inspect raster metadata with gdalinfo.\n"
   ]
  },
  {
   "cell_type": "code",
   "execution_count": null,
   "id": "06ef3cc7",
   "metadata": {
    "vscode": {
     "languageId": "powershell"
    }
   },
   "outputs": [],
   "source": [
    "!gdalinfo $raster_input"
   ]
  },
  {
   "cell_type": "markdown",
   "id": "4e69ba2e",
   "metadata": {},
   "source": [
    "\n",
    "Inspect vector or geometric metadata with ogrlinfo. Check out Ogr2Ogr.\n"
   ]
  },
  {
   "cell_type": "code",
   "execution_count": null,
   "id": "6600e1ab",
   "metadata": {
    "vscode": {
     "languageId": "powershell"
    }
   },
   "outputs": [],
   "source": [
    "!ogrinfo -al $redmond_neighborhoods"
   ]
  },
  {
   "cell_type": "markdown",
   "id": "5bbfb55a",
   "metadata": {},
   "source": [
    "Dissolve redmond_neighborhoods to make boundary."
   ]
  },
  {
   "cell_type": "code",
   "execution_count": null,
   "id": "5c2d6444",
   "metadata": {
    "vscode": {
     "languageId": "powershell"
    }
   },
   "outputs": [],
   "source": [
    "!ogr2ogr -f \"ESRI Shapefile\" $boundary $redmond_neighborhoods -dialect sqlite -sql \"SELECT ST_Union(geometry), NAME FROM 'Redmond_Neighborhoods' GROUP BY CreatedBy\""
   ]
  },
  {
   "cell_type": "markdown",
   "id": "b17f586b",
   "metadata": {},
   "source": [
    "\n",
    "Use gdalwarp to extract raster data to a vector or geometry file.\n"
   ]
  },
  {
   "cell_type": "code",
   "execution_count": null,
   "id": "cd499d7b",
   "metadata": {
    "vscode": {
     "languageId": "powershell"
    }
   },
   "outputs": [],
   "source": [
    "!gdalwarp -cutline $boundary -crop_to_cutline $raster_input $raster_output -overwrite"
   ]
  },
  {
   "cell_type": "markdown",
   "id": "6a259578",
   "metadata": {},
   "source": [
    "\n",
    "### Raster Processing with gdaldem\n",
    "\n",
    "GDAL/OGR can analyze DEM data with gdaldem.\n",
    "\n"
   ]
  },
  {
   "cell_type": "markdown",
   "id": "dcc977f8",
   "metadata": {},
   "source": [
    "\n",
    "Create a Hillshade/Shaded Relief map.\n"
   ]
  },
  {
   "cell_type": "code",
   "execution_count": null,
   "id": "84c435f9",
   "metadata": {
    "vscode": {
     "languageId": "powershell"
    }
   },
   "outputs": [],
   "source": [
    "!gdaldem hillshade -az 275 $raster_input $hillshade_output"
   ]
  },
  {
   "cell_type": "markdown",
   "id": "d8813a76",
   "metadata": {},
   "source": [
    "\n",
    "Create a slope map measured in percent (-p).\n"
   ]
  },
  {
   "cell_type": "code",
   "execution_count": null,
   "id": "dc11b458",
   "metadata": {
    "vscode": {
     "languageId": "powershell"
    }
   },
   "outputs": [],
   "source": [
    "!gdaldem slope -p $raster_output $slope_output"
   ]
  }
 ],
 "metadata": {
  "kernelspec": {
   "display_name": "GIS_Python_Env",
   "language": "python",
   "name": "python3"
  },
  "language_info": {
   "codemirror_mode": {
    "name": "ipython",
    "version": 3
   },
   "file_extension": ".py",
   "mimetype": "text/x-python",
   "name": "python",
   "nbconvert_exporter": "python",
   "pygments_lexer": "ipython3",
   "version": "3.12.8"
  }
 },
 "nbformat": 4,
 "nbformat_minor": 5
}
